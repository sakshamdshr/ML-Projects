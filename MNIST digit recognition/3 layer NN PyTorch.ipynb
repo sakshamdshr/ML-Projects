{
 "cells": [
  {
   "cell_type": "code",
   "execution_count": 1,
   "metadata": {
    "colab": {
     "base_uri": "https://localhost:8080/"
    },
    "id": "OGcKK30_MGpw",
    "outputId": "95d2a795-7316-4c0d-bf10-a60f98f78a08"
   },
   "outputs": [
    {
     "name": "stdout",
     "output_type": "stream",
     "text": [
      "Downloading train-images-idx3-ubyte.gz...\n",
      "Downloading t10k-images-idx3-ubyte.gz...\n",
      "Downloading train-labels-idx1-ubyte.gz...\n",
      "Downloading t10k-labels-idx1-ubyte.gz...\n",
      "Download complete.\n",
      "Save complete.\n"
     ]
    }
   ],
   "source": [
    "import numpy as np\n",
    "from urllib import request\n",
    "import gzip\n",
    "import pickle\n",
    "\n",
    "filename = [\n",
    "[\"training_images\",\"train-images-idx3-ubyte.gz\"],\n",
    "[\"test_images\",\"t10k-images-idx3-ubyte.gz\"],\n",
    "[\"training_labels\",\"train-labels-idx1-ubyte.gz\"],\n",
    "[\"test_labels\",\"t10k-labels-idx1-ubyte.gz\"]\n",
    "]\n",
    "\n",
    "def download_mnist():\n",
    "    base_url = \"http://yann.lecun.com/exdb/mnist/\"\n",
    "    for name in filename:\n",
    "        print(\"Downloading \"+name[1]+\"...\")\n",
    "        request.urlretrieve(base_url+name[1], name[1])\n",
    "    print(\"Download complete.\")\n",
    "\n",
    "def save_mnist():\n",
    "    mnist = {}\n",
    "    for name in filename[:2]:\n",
    "        with gzip.open(name[1], 'rb') as f:\n",
    "            mnist[name[0]] = np.frombuffer(f.read(), np.uint8, offset=16).reshape(-1,28*28)\n",
    "    for name in filename[-2:]:\n",
    "        with gzip.open(name[1], 'rb') as f:\n",
    "            mnist[name[0]] = np.frombuffer(f.read(), np.uint8, offset=8)\n",
    "    with open(\"mnist.pkl\", 'wb') as f:\n",
    "        pickle.dump(mnist,f)\n",
    "    print(\"Save complete.\")\n",
    "\n",
    "def init():\n",
    "    download_mnist()\n",
    "    save_mnist()\n",
    "#    print ((load()[0]).shape)\n",
    "def load():\n",
    "    with open(\"mnist.pkl\",'rb') as f:\n",
    "        mnist = pickle.load(f)\n",
    "    return mnist[\"training_images\"], mnist[\"training_labels\"], mnist[\"test_images\"], mnist[\"test_labels\"]\n",
    "\n",
    "if __name__ == '__main__':\n",
    "    init()"
   ]
  },
  {
   "cell_type": "code",
   "execution_count": 2,
   "metadata": {
    "colab": {
     "base_uri": "https://localhost:8080/",
     "height": 935
    },
    "id": "iPG4vDAHMgKb",
    "outputId": "cb1538b0-ed06-4994-d555-4ab8e56f9103"
   },
   "outputs": [
    {
     "name": "stdout",
     "output_type": "stream",
     "text": [
      "60000 60000 10000 10000\n",
      "784 60000 784 10000\n",
      "===========this is the original image===========\n",
      "6\n"
     ]
    },
    {
     "data": {
      "image/png": "[encoded data removed]",
      "text/plain": [
       "<Figure size 640x480 with 1 Axes>"
      ]
     },
     "metadata": {},
     "output_type": "display_data"
    },
    {
     "name": "stdout",
     "output_type": "stream",
     "text": [
      "===========this is the vectorized image===========\n"
     ]
    },
    {
     "data": {
      "image/png": "[encoded data removed]",
      "text/plain": [
       "<Figure size 640x480 with 1 Axes>"
      ]
     },
     "metadata": {},
     "output_type": "display_data"
    }
   ],
   "source": [
    "import matplotlib.pyplot as plt\n",
    "import numpy as np\n",
    "from matplotlib.colors import LogNorm\n",
    "\n",
    "import numpy as np\n",
    "from urllib import request\n",
    "import gzip\n",
    "import math\n",
    "import pickle\n",
    "\n",
    "def loadB():\n",
    "    with open(\"mnist.pkl\",'rb') as f:\n",
    "        mnist = pickle.load(f)\n",
    "\n",
    "        training_images, training_labels, testing_images, testing_labels = mnist[\"training_images\"], mnist[\"training_labels\"], mnist[\"test_images\"], mnist[\"test_labels\"]\n",
    "        # Normalize the images\n",
    "        training_images.astype('float32')\n",
    "        testing_images.astype('float32')\n",
    "        training_images = training_images / 255\n",
    "        testing_images = testing_images / 255\n",
    "        return training_images, training_labels, testing_images, testing_labels\n",
    "\n",
    "\n",
    "TRimg,TRlab,TSimg,TSlab=loadB()\n",
    "print(len(TRimg),len(TRlab),len(TSimg),len(TSlab))\n",
    "print(len(TRimg[0]),len(TRlab),len(TSimg[0]),len(TSlab))\n",
    "\n",
    "showInd=66\n",
    "Column=np.reshape(TRimg[showInd], (784, 1))\n",
    "arr_2d = np.reshape(TRimg[showInd], (28, 28))\n",
    "arr_2dT=np.rot90(arr_2d)\n",
    "arr_2dTA=np.rot90(arr_2dT)\n",
    "Final=np.fliplr(arr_2dTA)\n",
    "#arr_2dTA=np.transpose(arr_2dT)\n",
    "#arr_2dTB=np.transpose(arr_2dTA)\n",
    "print(\"===========this is the original image===========\")\n",
    "plt.pcolor(Final)\n",
    "print(TRlab[showInd])\n",
    "plt.show()\n",
    "print(\"===========this is the vectorized image===========\")\n",
    "plt.pcolor(Column)\n",
    "plt.show()\n",
    "\n",
    "#pcm = plt.pcolormesh(arr_2d,cmap='RdBu_r')\n",
    "#plt.colorbar(pcm)\n",
    "#plt.show()"
   ]
  },
  {
   "cell_type": "code",
   "execution_count": 7,
   "metadata": {
    "colab": {
     "base_uri": "https://localhost:8080/"
    },
    "id": "jjhyBFL-Mj_C",
    "outputId": "d819ddf3-6749-4fa5-cdf4-eb728ff75ac5"
   },
   "outputs": [
    {
     "name": "stdout",
     "output_type": "stream",
     "text": [
      "\n",
      "Training with learning rate: 0.01, batch size: 32\n",
      "Epoch 1, Loss: 1.2549734550038973\n",
      "Epoch 2, Loss: 0.37822767999370893\n",
      "Epoch 3, Loss: 0.3244269172698259\n",
      "Epoch 4, Loss: 0.29567201089560985\n",
      "Epoch 5, Loss: 0.2737121879577637\n",
      "Epoch 6, Loss: 0.2548405259559552\n",
      "Epoch 7, Loss: 0.23799037456015745\n",
      "Epoch 8, Loss: 0.2230171830634276\n",
      "Epoch 9, Loss: 0.20973069350123405\n",
      "Epoch 10, Loss: 0.19787199841340383\n",
      "Training complete.\n",
      "Total Time = 16\n",
      "Accuracy on test data: 94.380%\n"
     ]
    }
   ],
   "source": [
    "import torch\n",
    "import torch.nn as nn\n",
    "import torch.optim as optim\n",
    "import time\n",
    "\n",
    "start = time.time()\n",
    "\n",
    "epochs = 10\n",
    "learning_rates = [0.01, 0.1, 0.001]\n",
    "batch_sizes = [32, 128]\n",
    "\n",
    "batch_sizes = [32]\n",
    "learning_rates = [0.01]\n",
    "class Net(nn.Module):\n",
    "\n",
    "    \n",
    "    def __init__(self):\n",
    "        super(Net, self).__init__()\n",
    "        \n",
    "        self.l1 = nn.Linear(784, 200) # input layer\n",
    "        self.l2 = nn.Linear(200, 50)  # hidden layer\n",
    "        self.l3 = nn.Linear(50, 10)   # output layer\n",
    "        self.MyRelu=nn.ReLU()         # relu function\n",
    "\n",
    "    def forward(self, x):\n",
    "        #x = F.relu(self.l1(x))\n",
    "        x = self.MyRelu(self.l1(x))\n",
    "        x = self.MyRelu(self.l2(x))\n",
    "        return x\n",
    "        \n",
    "\n",
    "\n",
    "\n",
    "TRimgT = torch.tensor(TRimg, dtype=torch.float32)\n",
    "TRlabT = torch.tensor(TRlab, dtype=torch.long)\n",
    "TSimgT = torch.tensor(TSimg, dtype=torch.float32)\n",
    "TSlabT = torch.tensor(TSlab, dtype=torch.long)\n",
    "\n",
    "\n",
    "\n",
    "\n",
    "for lr in learning_rates:\n",
    "    for batch_size in batch_sizes:\n",
    "        print(f\"\\nTraining with learning rate: {lr}, batch size: {batch_size}\")\n",
    "\n",
    "        # Initialize model, loss function, and optimizer\n",
    "        model = Net()\n",
    "        criterion = nn.CrossEntropyLoss()\n",
    "        optimizer = optim.SGD(model.parameters(), lr=lr)\n",
    "\n",
    "        # Set batch size\n",
    "        TRimgT.batch_size = batch_size\n",
    "\n",
    "        # Training loop\n",
    "        for epoch in range(epochs):\n",
    "          running_loss = 0.0\n",
    "          for i in range(0, len(TRimgT), batch_size):\n",
    "              inputs = TRimgT[i:i+batch_size].view(-1, 784)\n",
    "              labels = TRlabT[i:i+batch_size]\n",
    "              optimizer.zero_grad()\n",
    "              outputs = model(inputs)\n",
    "              loss = criterion(outputs, labels)\n",
    "              loss.backward()\n",
    "              optimizer.step()\n",
    "              running_loss += loss.item()\n",
    "          print(f\"Epoch {epoch+1}, Loss: {running_loss / (len(TRimgT) / batch_size)}\")\n",
    "\n",
    "print(\"Training complete.\")\n",
    "end = time.time()\n",
    "print(f\"Total Time = {round(end-start)}\")\n",
    "\n",
    "correct = 0\n",
    "total = 0\n",
    "with torch.no_grad():\n",
    "    for i in range(0, len(TSimg), batch_size):\n",
    "        inputs = TSimgT[i:i+batch_size].view(-1, 784)\n",
    "        labels = TSlabT[i:i+batch_size]\n",
    "        outputs = model(inputs)\n",
    "        _, predicted = torch.max(outputs.data, 1)\n",
    "        total += labels.size(0)\n",
    "        correct += (predicted == labels).sum().item()\n",
    "\n",
    "print(f\"Accuracy on test data: {100 * correct / total:.3f}%\")\n"
   ]
  }
 ],
 "metadata": {
  "accelerator": "GPU",
  "colab": {
   "gpuType": "T4",
   "provenance": []
  },
  "kernelspec": {
   "display_name": "Python 3 (ipykernel)",
   "language": "python",
   "name": "python3"
  },
  "language_info": {
   "codemirror_mode": {
    "name": "ipython",
    "version": 3
   },
   "file_extension": ".py",
   "mimetype": "text/x-python",
   "name": "python",
   "nbconvert_exporter": "python",
   "pygments_lexer": "ipython3",
   "version": "3.11.5"
  }
 },
 "nbformat": 4,
 "nbformat_minor": 1
}
